{
 "cells": [
  {
   "cell_type": "code",
   "execution_count": 1,
   "id": "f9b02627-7557-4f08-b79d-6b1b81e7b8a4",
   "metadata": {},
   "outputs": [
    {
     "name": "stdout",
     "output_type": "stream",
     "text": [
      "Note: you may need to restart the kernel to use updated packages.\n"
     ]
    }
   ],
   "source": [
    "pip install -q wikipedia"
   ]
  },
  {
   "cell_type": "code",
   "execution_count": 1,
   "id": "09f89f07-9378-4185-83c3-e218b7184b24",
   "metadata": {},
   "outputs": [],
   "source": [
    "from langchain_community.tools import WikipediaQueryRun\n",
    "from langchain_community.utilities import WikipediaAPIWrapper"
   ]
  },
  {
   "cell_type": "code",
   "execution_count": 2,
   "id": "258e53c0-afb2-40b4-970e-98d60c2e532d",
   "metadata": {},
   "outputs": [
    {
     "data": {
      "text/plain": [
       "'Page: Vector database\\nSummary: A vector database management system (VDBMS) or simply vector database or vector store is a database that can store vectors (fixed-length lists of numbers) along with other data items. Vector databases typically implement one or more Approximate Nearest Neighbor (ANN) algorithms, so that one can search the database with a query vector to retrieve the closest matching database records.\\nVectors are mathematical representations of data in a high-dimensional space. In t'"
      ]
     },
     "execution_count": 2,
     "metadata": {},
     "output_type": "execute_result"
    }
   ],
   "source": [
    "api_wrapper = WikipediaAPIWrapper(top_k_results=1, doc_content_chars_max=5000)\n",
    "wiki = WikipediaQueryRun(api_wrapper=api_wrapper)\n",
    "wiki.invoke({'query': 'llamaindex'})"
   ]
  },
  {
   "cell_type": "markdown",
   "id": "c1fcfd97-5c51-49a4-b4ef-abcc6ceab008",
   "metadata": {},
   "source": [
    "# Reasoning and Acting (React)"
   ]
  },
  {
   "cell_type": "markdown",
   "id": "2c37eba4-3607-49cb-851b-7d218aca8d89",
   "metadata": {},
   "source": [
    "## Creating a ReAct Agent"
   ]
  },
  {
   "cell_type": "code",
   "execution_count": 3,
   "id": "8294b8e4-7a1d-4504-8048-e06d9ed2e984",
   "metadata": {},
   "outputs": [],
   "source": [
    "#pip install langchainhub  -q"
   ]
  },
  {
   "cell_type": "code",
   "execution_count": 4,
   "id": "ac9d45b0-eab3-46cb-9137-17db5241c9dd",
   "metadata": {},
   "outputs": [
    {
     "data": {
      "text/plain": [
       "True"
      ]
     },
     "execution_count": 4,
     "metadata": {},
     "output_type": "execute_result"
    }
   ],
   "source": [
    "from dotenv import load_dotenv, find_dotenv\n",
    "load_dotenv(find_dotenv(), override=True)"
   ]
  },
  {
   "cell_type": "code",
   "execution_count": 17,
   "id": "7ab9d75c-8685-47b3-a2d1-866ca62c8bd4",
   "metadata": {},
   "outputs": [],
   "source": [
    "from langchain.prompts import PromptTemplate\n",
    "from langchain import hub\n",
    "from langchain.agents import Tool, AgentExecutor, initialize_agent, create_react_agent\n",
    "from langchain.tools import DuckDuckGoSearchRun, WikipediaQueryRun\n",
    "from langchain.utilities import WikipediaAPIWrapper\n",
    "from langchain_experimental.tools.python.tool import PythonREPLTool\n",
    "from langchain_openai import ChatOpenAI\n",
    "\n",
    "llm = ChatOpenAI(model_name='gpt-3.5-turbo', temperature=0)\n",
    "\n",
    "template = '''\n",
    "Answer the following questions in GERMAN as best uou can.\n",
    "Questions: {q}\n",
    "'''\n",
    "prompt_template = PromptTemplate.from_template(template)\n",
    "prompt = hub.pull('hwchase17/react')\n",
    "# print(type(prompt))\n",
    "# print(prompt.input_variables)\n",
    "# print(prompt.template)\n",
    "\n",
    "# 1. Python REPL Tool (for executing Python code)\n",
    "python_repl = PythonREPLTool()\n",
    "python_repl_tool = Tool(\n",
    "    name = 'Python REPL',\n",
    "    func = python_repl.run,\n",
    "    description = 'Useful when you need to use Python to answer a question. You Should input Python code.'\n",
    ")\n",
    "\n",
    "# 2. Wikipedia Tool (for searching wikipedia)\n",
    "api_wrapper = WikipediaAPIWrapper()\n",
    "wikipedia = WikipediaQueryRun(api_wrapper=api_wrapper)\n",
    "wikipedia_tool = Tool(\n",
    "    name='Wikipedia',\n",
    "    func=wikipedia.run,\n",
    "    description='Useful for when you need to look up a topic, country, or person on wikipedia'\n",
    ")\n",
    "# 3. DuckDuckGo Search Tool (for general web searches)\n",
    "search = DuckDuckGoSearchRun()\n",
    "duckduckgo_tool = Tool(\n",
    "    name='DuckDuckGo Search',\n",
    "    func=search.run,\n",
    "    description='Useful for when you need to perform an internet search to find information that another tool cant provide'\n",
    ")\n",
    "\n",
    "tools = [python_repl_tool, wikipedia_tool, duckduckgo_tool]\n",
    "\n",
    "agent = create_react_agent(llm, tools, prompt)\n",
    "agent_executor = AgentExecutor(\n",
    "    agent=agent,\n",
    "    tools=tools,\n",
    "    verbose=True,\n",
    "    handle_parsing_errors=True,\n",
    "    max_iterations= 10\n",
    ")"
   ]
  },
  {
   "cell_type": "code",
   "execution_count": 11,
   "id": "128e9164-50c0-4ffe-840e-fb8995c095fc",
   "metadata": {},
   "outputs": [
    {
     "name": "stdout",
     "output_type": "stream",
     "text": [
      "\n",
      "\n",
      "\u001b[1m> Entering new AgentExecutor chain...\u001b[0m\n"
     ]
    },
    {
     "name": "stderr",
     "output_type": "stream",
     "text": [
      "Python REPL can execute arbitrary code. Use with caution.\n"
     ]
    },
    {
     "name": "stdout",
     "output_type": "stream",
     "text": [
      "\u001b[32;1m\u001b[1;3mI can use Python to generate the Fibonacci series.\n",
      "Action: Python REPL\n",
      "Action Input: \n",
      "```python\n",
      "def fibonacci(n):\n",
      "    fib_series = [0, 1]\n",
      "    for i in range(2, n):\n",
      "        fib_series.append(fib_series[i-1] + fib_series[i-2])\n",
      "    return fib_series\n",
      "\n",
      "fibonacci(20)\n",
      "```\u001b[0m\u001b[36;1m\u001b[1;3m\u001b[0m\u001b[32;1m\u001b[1;3mI now have the first 20 numbers in the Fibonacci series.\n",
      "Final Answer: [0, 1, 1, 2, 3, 5, 8, 13, 21, 34, 55, 89, 144, 233, 377, 610, 987, 1597, 2584, 4181]\u001b[0m\n",
      "\n",
      "\u001b[1m> Finished chain.\u001b[0m\n"
     ]
    }
   ],
   "source": [
    "question = 'Generate the first 20 numbers in the Fibonacci series'\n",
    "output = agent_executor.invoke({\n",
    "   'input': prompt_template.format(q=question) \n",
    "})"
   ]
  },
  {
   "cell_type": "code",
   "execution_count": 12,
   "id": "fbada873-b296-42e9-a473-757d8bd78082",
   "metadata": {},
   "outputs": [
    {
     "name": "stdout",
     "output_type": "stream",
     "text": [
      "\n",
      "\n",
      "\u001b[1m> Entering new AgentExecutor chain...\u001b[0m\n",
      "\u001b[32;1m\u001b[1;3mI should use DuckDuckGo Search to find the current prime minister of the UK.\n",
      "Action: DuckDuckGo Search\n",
      "Action Input: \"current prime minister of the UK\"\u001b[0m\u001b[38;5;200m\u001b[1;3mModern historians generally consider Robert Walpole, who led the government of the Kingdom of Great Britain for over twenty years from 1721, [5] as the first prime minister. Walpole is also the longest-serving British prime minister by this definition. [6] LONDON, Nov 13 (Reuters) - David Cameron, 57, served as British prime minister from 2010 to 2016, resigning after the outcome of the Brexit vote, when Britain voted to leave the European Union.... 05:23 - Source: CNN. London CNN —. Seven months since he announced his resignation as prime minister of the United Kingdom, Boris Johnson's shadow still looms large over the ruling ... Boris Johnson (born June 19, 1964, New York City, New York, U.S.) American-born British journalist and Conservative Party politician who became prime minister of the United Kingdom in July 2019. He left office in September 2022 after being forced by scandal to resign. Prime Minister Rishi Sunak of Britain on Monday fired Suella Braverman, one of his most senior and divisive ministers, in a reshuffle of his top team that brought one of his predecessors, David...\u001b[0m\u001b[32;1m\u001b[1;3mI should refine my search to find the most up-to-date information on the current prime minister of the UK.\n",
      "Action: DuckDuckGo Search\n",
      "Action Input: \"current UK prime minister\"\u001b[0m"
     ]
    },
    {
     "name": "stderr",
     "output_type": "stream",
     "text": [
      "D:\\Work\\Gre\\UTD\\Courses\\Spring_II\\MIS6382\\Softwares\\Python\\Python311\\class\\Lib\\site-packages\\curl_cffi\\aio.py:192: UserWarning: Curlm alread closed! quitting from process_data\n",
      "  warnings.warn(\"Curlm alread closed! quitting from process_data\")\n"
     ]
    },
    {
     "name": "stdout",
     "output_type": "stream",
     "text": [
      "\u001b[38;5;200m\u001b[1;3mThe current prime minister of the United Kingdom is Rishi Sunak, who took office in October 2022. This web page provides a comprehensive list of all the prime ministers of the UK since 1721, with their portraits, terms of office, parties, and governments. Rishi Sunak (born May 12, 1980, Southampton, England) British politician and financier who became leader of the Conservative Party and prime minster of the United Kingdom in October 2022. Previously he served as chancellor of the Exchequer (2020-22). Early life Sunak was born into a family with immigrant roots. Boris Johnson (born June 19, 1964, New York City, New York, U.S.) American-born British journalist and Conservative Party politician who became prime minister of the United Kingdom in July 2019. He left office in September 2022 after being forced by scandal to resign. This is a list of current heads of state and heads of government. In some cases, mainly in presidential systems, there is only one leader being both head of state and head of government. In other cases, mainly in semi-presidential and parliamentary systems, the head of state and the head of government are different people. UK Prime Minister Rishi Sunak gives an update on the progress made since he introduced the Illegal Migration Bill, under his plans to \"stop the boats,\" on June 5, 2023 in Dover, England.\u001b[0m\u001b[32;1m\u001b[1;3mI now know the final answer\n",
      "Final Answer: The current prime minister of the UK is Rishi Sunak.\u001b[0m\n",
      "\n",
      "\u001b[1m> Finished chain.\u001b[0m\n"
     ]
    },
    {
     "name": "stderr",
     "output_type": "stream",
     "text": [
      "D:\\Work\\Gre\\UTD\\Courses\\Spring_II\\MIS6382\\Softwares\\Python\\Python311\\class\\Lib\\site-packages\\curl_cffi\\aio.py:192: UserWarning: Curlm alread closed! quitting from process_data\n",
      "  warnings.warn(\"Curlm alread closed! quitting from process_data\")\n"
     ]
    }
   ],
   "source": [
    "question = 'Who is the current prime minister of the UK?'\n",
    "output = agent_executor.invoke({\n",
    "   'input': prompt_template.format(q=question) \n",
    "})"
   ]
  },
  {
   "cell_type": "code",
   "execution_count": 13,
   "id": "39671ddd-3e5a-44bf-b3b4-43f9f135c3d8",
   "metadata": {},
   "outputs": [
    {
     "name": "stdout",
     "output_type": "stream",
     "text": [
      "\n",
      "Answer the following questions as best uou can.\n",
      "Questions: Who is the current prime minister of the UK?\n",
      "\n"
     ]
    }
   ],
   "source": [
    "print(output['input'])"
   ]
  },
  {
   "cell_type": "code",
   "execution_count": 14,
   "id": "cca8c967-0442-480a-b730-afc02f409ea6",
   "metadata": {},
   "outputs": [
    {
     "data": {
      "text/plain": [
       "'The current prime minister of the UK is Rishi Sunak.'"
      ]
     },
     "execution_count": 14,
     "metadata": {},
     "output_type": "execute_result"
    }
   ],
   "source": [
    "output['output']"
   ]
  },
  {
   "cell_type": "code",
   "execution_count": 18,
   "id": "4ecfb910-6cb6-4952-9043-4756bab8b54a",
   "metadata": {},
   "outputs": [
    {
     "name": "stdout",
     "output_type": "stream",
     "text": [
      "\n",
      "\n",
      "\u001b[1m> Entering new AgentExecutor chain...\u001b[0m\n",
      "\u001b[32;1m\u001b[1;3mI need to find information about Napoleon Bonaparte in German.\n",
      "Action: Action [DuckDuckGo Search]\n",
      "Action Input: Napoleon Bonaparte German Wikipedia\u001b[0mAction [DuckDuckGo Search] is not a valid tool, try one of [Python REPL, Wikipedia, DuckDuckGo Search].\u001b[32;1m\u001b[1;3mI should try using Wikipedia to find information about Napoleon Bonaparte in German.\n",
      "Action: Wikipedia\n",
      "Action Input: Napoleon Bonaparte German\u001b[0m\u001b[33;1m\u001b[1;3mPage: House of Bonaparte\n",
      "Summary: The House of Bonaparte is a former imperial and royal European dynasty of Corsican origin. It was founded in 1804 by Napoleon I, the son of Corsican nobleman Carlo Buonaparte and Letizia Buonaparte (née Ramolino). Napoleon was a French military leader who rose to power during the French Revolution and who, in 1804, transformed the First French Republic into the First French Empire, five years after his coup d'état of November 1799 (18 Brumaire). Napoleon and the Grande Armée had to fight against every major European power (except for the ones he was allied with, including Denmark-Norway) and dominated continental Europe through a series of military victories during the Napoleonic Wars. He installed members of his family on the thrones of client states, expanding the power of the dynasty.\n",
      "The House of Bonaparte formed the Imperial House of France during the French Empire, together with some non-Bonaparte family members. In addition to holding the title of Emperor of the French, the Bonaparte dynasty held various other titles and territories during the Napoleonic Wars, including the Kingdom of Italy, the Kingdom of Spain, the Kingdom of Westphalia, the Kingdom of Holland, and the Kingdom of Naples. The dynasty held power for around a decade until the Napoleonic Wars began to take their toll. Making very powerful enemies, such as Austria, Britain, Russia, and Prussia, as well as royalist (particularly Bourbon) restorational movements in France, Spain, the Two Sicilies, and Sardinia, the dynasty eventually collapsed due to the final defeat of Napoleon at the Battle of Waterloo and the restoration of former dynasties by the Congress of Vienna.\n",
      "During the reign of Napoleon I, the Imperial Family consisted of the Emperor's immediate relations – his wife, son, siblings, and some other close relatives, namely his brother-in-law Joachim Murat, his uncle Joseph Fesch, and his stepson Eugène de Beauharnais.\n",
      "Between 1852 and 1870, there was a Second French Empire, when a member of the Bonaparte dynasty again ruled France: Napoleon III, the youngest son of Louis Bonaparte. However, during the Franco-Prussian War of 1870–1871, the dynasty was again ousted from the Imperial Throne. Since that time, there has been a series of pretenders. Supporters of the Bonaparte family's claim to the throne of France are known as Bonapartists. Current head Jean-Christophe, Prince Napoléon has a Bourbon mother.\n",
      "\n",
      "Page: Jérôme Bonaparte\n",
      "Summary: Jérôme-Napoléon Bonaparte (born Girolamo Buonaparte; 15 November 1784 – 24 June 1860) was the youngest brother of Napoleon I and reigned as Jerome Napoleon I (formally Hieronymus Napoleon in German), King of Westphalia, between 1807 and 1813. \n",
      "From 1816 onward, he bore the title of Prince of Montfort. After 1848, when his nephew, Louis Napoleon, became President of the French Second Republic, he served in several official roles, including Marshal of France from 1850 onward, and President of the Senate in 1852. He was the only one of Napoleon's siblings who lived long enough to see the Bonaparte restoration.\n",
      "Historian Owen Connelly points to his financial, military, and administrative successes and concludes he was a loyal, useful, and soldierly asset to Napoleon. Others, including historian Helen Jean Burn, have demonstrated his military failures, including a dismal career in the French navy that nearly escalated into war with Britain over an incident in the West Indies and his selfish concerns that led to the deaths of tens of thousands during the Russian invasion when he failed to provide military support as Napoleon had counted upon for his campaign; further, his addiction to spending led to both personal and national financial disasters, with his large personal debts repeatedly paid by family members including Napoleon, his mother, and both of his first two fathers-in-law, and the treasury of Westphalia emptied. In general, most historians agree that he was the most unsuccessful of\u001b[0m\u001b[32;1m\u001b[1;3mI now have information about Napoleon Bonaparte in German.\n",
      "Final Answer: Napoleon Bonaparte war ein französischer Militärführer, der während der Französischen Revolution an die Macht kam und das Erste Französische Reich gründete.\u001b[0m\n",
      "\n",
      "\u001b[1m> Finished chain.\u001b[0m\n"
     ]
    }
   ],
   "source": [
    "question = 'Tell me about Napolean bonaparte?'\n",
    "output = agent_executor.invoke({\n",
    "   'input': prompt_template.format(q=question) \n",
    "})"
   ]
  },
  {
   "cell_type": "markdown",
   "id": "0eaf3f0b-9037-44b3-a5f9-ce192f0518d3",
   "metadata": {},
   "source": [
    "# Vector Databases"
   ]
  },
  {
   "cell_type": "code",
   "execution_count": null,
   "id": "f53cb328-47f2-44cc-a237-fbbec9129544",
   "metadata": {},
   "outputs": [],
   "source": [
    "# Pinecone is a vector database that is designed for storing a query of high dimensional\n",
    "# vectors. It provides fast and efficient semantic search over vector embeddings by integrating open ai\n",
    "# open ai LLMs, we fine deep learning capability for embedding generation with efficient vector search\n",
    "# storage and retrieval .\n",
    "\n",
    "# Vector databases are a new type of database, designed to store and query unstructured data.\n",
    "# Unstructured data is data that does not have a fixed schema, such as text, images and audio.\n",
    "\n",
    "# Pipeline for Vector Databases\n",
    "# Vector databases use a combination of different optimized algorithms that all participate in\n",
    "# Approximate Nearest Neighbor (ANN) search.\n",
    "\n",
    "# Steps 1> Embedding, 2> Indexing, 3> Querying\n",
    "\n",
    "\n"
   ]
  },
  {
   "cell_type": "code",
   "execution_count": 19,
   "id": "da2b19b7-5e2c-4b01-a0c5-c60d6f003b69",
   "metadata": {},
   "outputs": [
    {
     "data": {
      "text/plain": [
       "True"
      ]
     },
     "execution_count": 19,
     "metadata": {},
     "output_type": "execute_result"
    }
   ],
   "source": [
    "import os\n",
    "from dotenv import load_dotenv, find_dotenv\n",
    "load_dotenv(find_dotenv(), override=True)"
   ]
  },
  {
   "cell_type": "code",
   "execution_count": 20,
   "id": "2f076050-7542-4225-ad98-f483ed7b3d8f",
   "metadata": {},
   "outputs": [
    {
     "name": "stdout",
     "output_type": "stream",
     "text": [
      "Note: you may need to restart the kernel to use updated packages.\n"
     ]
    }
   ],
   "source": [
    "pip install -q pinecone-client"
   ]
  },
  {
   "cell_type": "code",
   "execution_count": 21,
   "id": "6da03047-5156-4b9e-9de8-864ea7ac3348",
   "metadata": {},
   "outputs": [
    {
     "name": "stdout",
     "output_type": "stream",
     "text": [
      "Note: you may need to restart the kernel to use updated packages.\n"
     ]
    }
   ],
   "source": [
    "pip install --upgrade -q pinecone-client"
   ]
  },
  {
   "cell_type": "code",
   "execution_count": 23,
   "id": "bd83f520-76c2-4aab-a4af-42349f318633",
   "metadata": {},
   "outputs": [
    {
     "name": "stdout",
     "output_type": "stream",
     "text": [
      "Name: pinecone-client\n",
      "Version: 3.0.3\n",
      "Summary: Pinecone client and SDK\n",
      "Home-page: https://www.pinecone.io\n",
      "Author: Pinecone Systems, Inc.\n",
      "Author-email: support@pinecone.io\n",
      "License: Apache-2.0\n",
      "Location: D:\\Work\\Gre\\UTD\\Courses\\Spring_II\\MIS6382\\Softwares\\Python\\Python311\\class\\Lib\\site-packages\n",
      "Requires: certifi, tqdm, typing-extensions, urllib3\n",
      "Required-by: \n",
      "Note: you may need to restart the kernel to use updated packages.\n"
     ]
    }
   ],
   "source": [
    "pip show pinecone-client"
   ]
  },
  {
   "cell_type": "code",
   "execution_count": 27,
   "id": "caada4f6-3ba4-40d8-83c8-a1e54a427411",
   "metadata": {},
   "outputs": [
    {
     "data": {
      "text/plain": [
       "{'indexes': []}"
      ]
     },
     "execution_count": 27,
     "metadata": {},
     "output_type": "execute_result"
    }
   ],
   "source": [
    "from pinecone import Pinecone\n",
    "pc = Pinecone()\n",
    "#pc = Pinecone(api_key='d5fa5468-8b37-4add-a187-42f0e7c3c675')\n",
    "pc.list_indexes()"
   ]
  },
  {
   "cell_type": "code",
   "execution_count": null,
   "id": "54040f14-af0d-4de1-9b38-8c88b270f8cf",
   "metadata": {},
   "outputs": [],
   "source": []
  }
 ],
 "metadata": {
  "kernelspec": {
   "display_name": "Python 3 (ipykernel)",
   "language": "python",
   "name": "python3"
  },
  "language_info": {
   "codemirror_mode": {
    "name": "ipython",
    "version": 3
   },
   "file_extension": ".py",
   "mimetype": "text/x-python",
   "name": "python",
   "nbconvert_exporter": "python",
   "pygments_lexer": "ipython3",
   "version": "3.11.7"
  }
 },
 "nbformat": 4,
 "nbformat_minor": 5
}
