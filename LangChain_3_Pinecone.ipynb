{
 "cells": [
  {
   "cell_type": "markdown",
   "id": "864ef10e-6996-44fc-8e68-24481e2e4120",
   "metadata": {},
   "source": [
    "# Pinecone"
   ]
  },
  {
   "cell_type": "code",
   "execution_count": 1,
   "id": "01b7397c-b08c-4add-b3ba-86204fdf74c0",
   "metadata": {},
   "outputs": [
    {
     "data": {
      "text/plain": [
       "True"
      ]
     },
     "execution_count": 1,
     "metadata": {},
     "output_type": "execute_result"
    }
   ],
   "source": [
    "import os\n",
    "from dotenv import load_dotenv, find_dotenv\n",
    "load_dotenv(find_dotenv(), override=True)"
   ]
  },
  {
   "cell_type": "code",
   "execution_count": 2,
   "id": "e690f099-aa4c-4431-865a-4b737d658328",
   "metadata": {},
   "outputs": [
    {
     "name": "stdout",
     "output_type": "stream",
     "text": [
      "Note: you may need to restart the kernel to use updated packages.\n"
     ]
    }
   ],
   "source": [
    "pip install -q pinecone-client"
   ]
  },
  {
   "cell_type": "code",
   "execution_count": 3,
   "id": "0b56e759-9cea-488c-8177-700654fffe60",
   "metadata": {},
   "outputs": [
    {
     "name": "stdout",
     "output_type": "stream",
     "text": [
      "Note: you may need to restart the kernel to use updated packages.\n"
     ]
    }
   ],
   "source": [
    "pip install --upgrade -q pinecone-client"
   ]
  },
  {
   "cell_type": "code",
   "execution_count": 4,
   "id": "6fb18086-f659-4d5c-8f70-a4f4bacee368",
   "metadata": {},
   "outputs": [
    {
     "name": "stdout",
     "output_type": "stream",
     "text": [
      "Name: pinecone-client\n",
      "Version: 3.1.0\n",
      "Summary: Pinecone client and SDK\n",
      "Home-page: https://www.pinecone.io\n",
      "Author: Pinecone Systems, Inc.\n",
      "Author-email: support@pinecone.io\n",
      "License: Apache-2.0\n",
      "Location: D:\\Work\\Gre\\UTD\\Courses\\Spring_II\\MIS6382\\Softwares\\Python\\Python311\\class\\Lib\\site-packages\n",
      "Requires: certifi, tqdm, typing-extensions, urllib3\n",
      "Required-by: \n",
      "Note: you may need to restart the kernel to use updated packages.\n"
     ]
    }
   ],
   "source": [
    "pip show pinecone-client"
   ]
  },
  {
   "cell_type": "code",
   "execution_count": 5,
   "id": "35c4ec19-c897-498c-a0f9-779d9ae5a856",
   "metadata": {},
   "outputs": [
    {
     "name": "stderr",
     "output_type": "stream",
     "text": [
      "D:\\Work\\Gre\\UTD\\Courses\\Spring_II\\MIS6382\\Softwares\\Python\\Python311\\class\\Lib\\site-packages\\pinecone\\data\\index.py:1: TqdmWarning: IProgress not found. Please update jupyter and ipywidgets. See https://ipywidgets.readthedocs.io/en/stable/user_install.html\n",
      "  from tqdm.autonotebook import tqdm\n"
     ]
    },
    {
     "data": {
      "text/plain": [
       "{'indexes': []}"
      ]
     },
     "execution_count": 5,
     "metadata": {},
     "output_type": "execute_result"
    }
   ],
   "source": [
    "from pinecone import Pinecone\n",
    "from tqdm.autonotebook import tqdm\n",
    "pc = Pinecone(api_key=\"17be551e-f21f-4eb9-95d5-07af8e656a3e\")\n",
    "pc.list_indexes()\n"
   ]
  },
  {
   "cell_type": "markdown",
   "id": "cac54085-a431-4a1d-9b72-4d513e45e298",
   "metadata": {},
   "source": [
    "## Working with Pinecone Indexes"
   ]
  },
  {
   "cell_type": "code",
   "execution_count": 17,
   "id": "2f63e3bc-e2d4-49b2-a821-e7a43af94a20",
   "metadata": {},
   "outputs": [
    {
     "data": {
      "text/plain": [
       "{'indexes': [{'dimension': 1536,\n",
       "              'host': 'langchain-yqpbghn.svc.gcp-starter.pinecone.io',\n",
       "              'metric': 'cosine',\n",
       "              'name': 'langchain',\n",
       "              'spec': {'pod': {'environment': 'gcp-starter',\n",
       "                               'pod_type': 'starter',\n",
       "                               'pods': 1,\n",
       "                               'replicas': 1,\n",
       "                               'shards': 1}},\n",
       "              'status': {'ready': True, 'state': 'Ready'}}]}"
      ]
     },
     "execution_count": 17,
     "metadata": {},
     "output_type": "execute_result"
    }
   ],
   "source": [
    "pc.list_indexes()"
   ]
  },
  {
   "cell_type": "code",
   "execution_count": 18,
   "id": "2159ee83-177b-43fd-a84b-49bdf973f4ab",
   "metadata": {},
   "outputs": [
    {
     "data": {
      "text/plain": [
       "'langchain'"
      ]
     },
     "execution_count": 18,
     "metadata": {},
     "output_type": "execute_result"
    }
   ],
   "source": [
    "pc.list_indexes()[0]['name']"
   ]
  },
  {
   "cell_type": "code",
   "execution_count": 19,
   "id": "f85f004b-f820-4b9d-a26a-a17944f1fb60",
   "metadata": {},
   "outputs": [
    {
     "data": {
      "text/plain": [
       "{'dimension': 1536,\n",
       " 'host': 'langchain-yqpbghn.svc.gcp-starter.pinecone.io',\n",
       " 'metric': 'cosine',\n",
       " 'name': 'langchain',\n",
       " 'spec': {'pod': {'environment': 'gcp-starter',\n",
       "                  'pod_type': 'starter',\n",
       "                  'pods': 1,\n",
       "                  'replicas': 1,\n",
       "                  'shards': 1}},\n",
       " 'status': {'ready': True, 'state': 'Ready'}}"
      ]
     },
     "execution_count": 19,
     "metadata": {},
     "output_type": "execute_result"
    }
   ],
   "source": [
    "pc.describe_index('langchain')"
   ]
  },
  {
   "cell_type": "code",
   "execution_count": 12,
   "id": "b7d55966-a239-4980-b7f0-b6c75f8e08a8",
   "metadata": {},
   "outputs": [
    {
     "data": {
      "text/plain": [
       "[]"
      ]
     },
     "execution_count": 12,
     "metadata": {},
     "output_type": "execute_result"
    }
   ],
   "source": [
    "pc.list_indexes().names()"
   ]
  },
  {
   "cell_type": "code",
   "execution_count": 16,
   "id": "361234ba-6c05-44ae-b8ed-f6b9751af07e",
   "metadata": {},
   "outputs": [
    {
     "name": "stdout",
     "output_type": "stream",
     "text": [
      "Creating Index langchain\n",
      "Index creared! \n"
     ]
    }
   ],
   "source": [
    "from pinecone import PodSpec\n",
    "index_name = 'langchain'\n",
    "\n",
    "if index_name not in pc.list_indexes().names():\n",
    "    print(f'Creating Index {index_name}')\n",
    "    pc.create_index(\n",
    "        name=index_name,\n",
    "        dimension=1536,\n",
    "        metric='cosine',\n",
    "        spec=PodSpec(\n",
    "            environment='gcp-starter'\n",
    "        )\n",
    "    )\n",
    "    print('Index creared! ')\n",
    "else:\n",
    "    print(f'Index already there')"
   ]
  },
  {
   "cell_type": "code",
   "execution_count": 14,
   "id": "3b69a0b0-9f17-491b-874e-b130039711fd",
   "metadata": {},
   "outputs": [
    {
     "name": "stdout",
     "output_type": "stream",
     "text": [
      "Deleting index langchain...\n",
      "Done\n"
     ]
    }
   ],
   "source": [
    "# Deleting an index\n",
    "index_name = 'langchain'\n",
    "if index_name in pc.list_indexes().names():\n",
    "    print(f'Deleting index {index_name}...')\n",
    "    pc.delete_index(index_name)\n",
    "    print('Done')\n",
    "else:\n",
    "    print(f'Index {index_name} does not exist!')"
   ]
  },
  {
   "cell_type": "code",
   "execution_count": 20,
   "id": "5b6307ed-c891-4133-8316-7a0535821f0a",
   "metadata": {},
   "outputs": [
    {
     "data": {
      "text/plain": [
       "{'dimension': 1536,\n",
       " 'index_fullness': 0.0,\n",
       " 'namespaces': {},\n",
       " 'total_vector_count': 0}"
      ]
     },
     "execution_count": 20,
     "metadata": {},
     "output_type": "execute_result"
    }
   ],
   "source": [
    "index = pc.Index(index_name)\n",
    "index.describe_index_stats()\n"
   ]
  },
  {
   "cell_type": "code",
   "execution_count": null,
   "id": "0b6545ca-0722-4c8d-920d-1d262bafb955",
   "metadata": {},
   "outputs": [],
   "source": []
  }
 ],
 "metadata": {
  "kernelspec": {
   "display_name": "Python 3 (ipykernel)",
   "language": "python",
   "name": "python3"
  },
  "language_info": {
   "codemirror_mode": {
    "name": "ipython",
    "version": 3
   },
   "file_extension": ".py",
   "mimetype": "text/x-python",
   "name": "python",
   "nbconvert_exporter": "python",
   "pygments_lexer": "ipython3",
   "version": "3.11.7"
  }
 },
 "nbformat": 4,
 "nbformat_minor": 5
}
